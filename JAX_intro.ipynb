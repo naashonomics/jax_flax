{
  "nbformat": 4,
  "nbformat_minor": 0,
  "metadata": {
    "colab": {
      "provenance": [],
      "authorship_tag": "ABX9TyP4l2LAw8HYurqDVNtzFzKt",
      "include_colab_link": true
    },
    "kernelspec": {
      "name": "python3",
      "display_name": "Python 3"
    },
    "language_info": {
      "name": "python"
    }
  },
  "cells": [
    {
      "cell_type": "markdown",
      "metadata": {
        "id": "view-in-github",
        "colab_type": "text"
      },
      "source": [
        "<a href=\"https://colab.research.google.com/github/naashonomics/jax_flax/blob/main/JAX_intro.ipynb\" target=\"_parent\"><img src=\"https://colab.research.google.com/assets/colab-badge.svg\" alt=\"Open In Colab\"/></a>"
      ]
    },
    {
      "cell_type": "code",
      "execution_count": 1,
      "metadata": {
        "colab": {
          "base_uri": "https://localhost:8080/"
        },
        "id": "V7n6jymjyrVw",
        "outputId": "ce6e8265-3a93-4a27-b050-26e79c39c11d"
      },
      "outputs": [
        {
          "output_type": "stream",
          "name": "stdout",
          "text": [
            "618 ms ± 178 ms per loop (mean ± std. dev. of 7 runs, 5 loops each)\n"
          ]
        }
      ],
      "source": [
        "import numpy as np\n",
        "def fn(x):\n",
        "  return x + x*x + x*x*x\n",
        "\n",
        "x = np.random.randn(10000, 10000).astype(dtype='float32')\n",
        "%timeit -n5 fn(x)"
      ]
    },
    {
      "cell_type": "markdown",
      "source": [
        "Let's sum the first three powers of a matrix (element-wise) with both NumPy and JAX. First up is our NumPy implementation:"
      ],
      "metadata": {
        "id": "n-Aes2Kmy-AZ"
      }
    },
    {
      "cell_type": "code",
      "source": [
        "import jax.numpy as jnp\n",
        "from jax import jit\n",
        "jax_fn = jit(fn)\n",
        "x = jnp.array(x)\n",
        "%timeit jax_fn(x).block_until_ready()"
      ],
      "metadata": {
        "colab": {
          "base_uri": "https://localhost:8080/"
        },
        "id": "XiLAzqy7zCSx",
        "outputId": "12cbe41e-9f39-4efc-8d0b-ef057b972971"
      },
      "execution_count": 2,
      "outputs": [
        {
          "output_type": "stream",
          "name": "stdout",
          "text": [
            "3.79 ms ± 13.1 µs per loop (mean ± std. dev. of 7 runs, 1 loop each)\n"
          ]
        }
      ]
    }
  ]
}